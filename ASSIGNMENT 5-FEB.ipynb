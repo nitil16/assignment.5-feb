{
 "cells": [
  {
   "cell_type": "markdown",
   "id": "87d3501c-00b0-486b-883b-11c6ab155fd9",
   "metadata": {},
   "source": [
    "                                                ASSIGNMENT 5-FEB"
   ]
  },
  {
   "cell_type": "markdown",
   "id": "2146465b-62f1-408c-b5af-66dcf70eda5c",
   "metadata": {},
   "source": [
    "QUESTION.1"
   ]
  },
  {
   "cell_type": "markdown",
   "id": "9789cb0f-c892-4655-9208-5190b78af2bc",
   "metadata": {},
   "source": [
    "Q1. Explain Class and Object with respect to Object-Oriented Programming. Give a suitable example."
   ]
  },
  {
   "cell_type": "markdown",
   "id": "d72325c4-bf5c-4398-8b3d-d8bb023d5d1d",
   "metadata": {},
   "source": [
    "Ans. In Python, classes and objects are the fundamental building blocks of Object-Oriented Programming (OOP). \n",
    "A class is a blueprint or template for creating objects, which are instances of the class. \n",
    "An object is a specific instance of a class that can have its own unique state and behavior.\n"
   ]
  },
  {
   "cell_type": "markdown",
   "id": "cd4ac33e-7897-4824-b72b-a89cbe206383",
   "metadata": {},
   "source": [
    "Below is an example of a class named Person."
   ]
  },
  {
   "cell_type": "code",
   "execution_count": 1,
   "id": "bdfeef52-6c5e-4491-bfa1-d580d0742658",
   "metadata": {},
   "outputs": [],
   "source": [
    "class pwskills1 :\n",
    "    \n",
    "    def __init__(self ,phone_number, email_id , student_id):\n",
    "        self.phone_number = phone_number\n",
    "        self.email_id = email_id\n",
    "        self.student_id = student_id\n",
    "    \n",
    "    def return_student_deetails(self):\n",
    "        return self.student_id ,self.phone_number ,self.email_id"
   ]
  },
  {
   "cell_type": "code",
   "execution_count": 3,
   "id": "7b3de376-121d-418a-9af3-9d8274c7b9bf",
   "metadata": {},
   "outputs": [],
   "source": [
    "nitil = pwskills1(8845784341, \"nitil@gmail.com\",112)"
   ]
  },
  {
   "cell_type": "code",
   "execution_count": 4,
   "id": "b43a6472-84c3-4a4a-98d2-61615559c7ed",
   "metadata": {},
   "outputs": [
    {
     "data": {
      "text/plain": [
       "(112, 8845784341, 'nitil@gmail.com')"
      ]
     },
     "execution_count": 4,
     "metadata": {},
     "output_type": "execute_result"
    }
   ],
   "source": [
    "nitil.return_student_deetails()"
   ]
  },
  {
   "cell_type": "code",
   "execution_count": 6,
   "id": "eeb40f2d-7823-4efa-9134-eba4ee4dca5d",
   "metadata": {},
   "outputs": [
    {
     "data": {
      "text/plain": [
       "8845784341"
      ]
     },
     "execution_count": 6,
     "metadata": {},
     "output_type": "execute_result"
    }
   ],
   "source": [
    "nitil.phone_number\n"
   ]
  },
  {
   "cell_type": "code",
   "execution_count": 9,
   "id": "81147d6d-3615-4271-93c1-d362af1d0560",
   "metadata": {},
   "outputs": [
    {
     "data": {
      "text/plain": [
       "'nitil@gmail.com'"
      ]
     },
     "execution_count": 9,
     "metadata": {},
     "output_type": "execute_result"
    }
   ],
   "source": [
    "nitil.email_id"
   ]
  },
  {
   "cell_type": "code",
   "execution_count": null,
   "id": "2e141bcd-d5e9-489d-9d21-cbd12252acfc",
   "metadata": {},
   "outputs": [],
   "source": []
  },
  {
   "cell_type": "markdown",
   "id": "f5cb87a5-acd7-454d-818b-657269737440",
   "metadata": {},
   "source": [
    "QUESTION.2"
   ]
  },
  {
   "cell_type": "markdown",
   "id": "640aa670-aa97-4dd0-9966-d98715bb450f",
   "metadata": {},
   "source": [
    "Q2. Name the four pillars of OOPs."
   ]
  },
  {
   "cell_type": "markdown",
   "id": "ad5998bc-b6f1-4e17-b530-e895c7258f87",
   "metadata": {},
   "source": [
    "Ans. The four pillars of Object Oriented Programming (OOPs) are:"
   ]
  },
  {
   "cell_type": "markdown",
   "id": "566fe332-6c3b-4c5e-8ed2-d541c708482d",
   "metadata": {},
   "source": [
    " 1. Encapsulation: Encapsulation is the practice of hiding internal details of an object and only exposing a public interface. \n",
    "This helps to prevent accidental modification of internal data and ensures that objects are used correctly by external code.\n",
    "\n",
    "2. Inheritance: Inheritance is the process by which a new class is created from an existing class, inheriting all the attributes and methods of the parent class. \n",
    "This allows for code reuse and allows for more specific classes to be created from more general ones.\n",
    "\n",
    "3. Polymorphism: Polymorphism is the ability of objects to take on many forms or have multiple behaviors. \n",
    "In OOPs, polymorphism is often achieved through method overriding and method overloading.\n",
    "\n",
    "4. Abstraction: Abstraction is the practice of focusing on essential features of an object and ignoring its non-essential or implementation details. \n",
    "It allows for complex systems to be modeled in a simpler way and makes code easier to understand and maintain. '''\n"
   ]
  },
  {
   "cell_type": "code",
   "execution_count": null,
   "id": "bb8fb20a-b65f-4ccf-8949-ee443d8c6566",
   "metadata": {},
   "outputs": [],
   "source": []
  },
  {
   "cell_type": "markdown",
   "id": "5b756dd6-ec9f-4c27-af39-f8077fed0322",
   "metadata": {},
   "source": [
    "QUESTION.3"
   ]
  },
  {
   "cell_type": "markdown",
   "id": "6875eb26-204f-4000-a408-83fe2f05f30f",
   "metadata": {},
   "source": [
    "Q3. Explain why the __init__() function is used. Give a suitable example."
   ]
  },
  {
   "cell_type": "markdown",
   "id": "7baab3f2-c000-4aeb-b1e1-3068c838a7ff",
   "metadata": {},
   "source": [
    "Ans. In Python, the __init__() function is a special method that is called when an object is created from a class. \n",
    "It is used to initialize the attributes of the object with the values passed to it as arguments. \n",
    "The self parameter in the __init__() method refers to the object being created, and is used to set the object's attributes.\n"
   ]
  },
  {
   "cell_type": "markdown",
   "id": "3d9edc8f-68f8-4c4a-b986-5cbea6d1610b",
   "metadata": {},
   "source": [
    "Below is the example of a class that uses the __init__() function:"
   ]
  },
  {
   "cell_type": "code",
   "execution_count": 10,
   "id": "e286de56-bc34-4521-8187-eec9a638b32f",
   "metadata": {},
   "outputs": [],
   "source": [
    "class pwskills2 :\n",
    "    \n",
    "    def __init__(nitil ,phone_number, email_id , student_id):\n",
    "        nitil.phone_number1 = phone_number\n",
    "        nitil.email_id1 = email_id\n",
    "        nitil.student_id1 = student_id\n",
    "    \n",
    "    def return_student_deetails(nitil):\n",
    "        return nitil.student_id1 ,nitil.phone_number1 ,nitil.email_id1"
   ]
  },
  {
   "cell_type": "code",
   "execution_count": 19,
   "id": "bf31cf82-2aef-4f92-8e0b-32d65b6bd672",
   "metadata": {},
   "outputs": [],
   "source": [
    "nitil = pwskills2(2324323, \"nitil@gmail.com\",111)"
   ]
  },
  {
   "cell_type": "code",
   "execution_count": 20,
   "id": "81a7ce73-33b8-4f2c-963f-96b64f317c9d",
   "metadata": {},
   "outputs": [
    {
     "data": {
      "text/plain": [
       "2324323"
      ]
     },
     "execution_count": 20,
     "metadata": {},
     "output_type": "execute_result"
    }
   ],
   "source": [
    "nitil.phone_number1"
   ]
  },
  {
   "cell_type": "code",
   "execution_count": 21,
   "id": "33e33f96-eead-4e0b-b0f2-da7524c7f615",
   "metadata": {},
   "outputs": [
    {
     "data": {
      "text/plain": [
       "'nitil@gmail.com'"
      ]
     },
     "execution_count": 21,
     "metadata": {},
     "output_type": "execute_result"
    }
   ],
   "source": [
    "nitil.email_id1\n"
   ]
  },
  {
   "cell_type": "code",
   "execution_count": null,
   "id": "e5a400cf-f9df-4234-9792-b50525017d31",
   "metadata": {},
   "outputs": [],
   "source": []
  },
  {
   "cell_type": "markdown",
   "id": "cca3b4f1-9e59-47e9-ad05-be542762cacf",
   "metadata": {},
   "source": [
    "QUESTION.4"
   ]
  },
  {
   "cell_type": "markdown",
   "id": "03bca1c2-0347-422b-bdbf-c234f53938d5",
   "metadata": {},
   "source": [
    "Q4. Why self is used in OOPs?"
   ]
  },
  {
   "cell_type": "markdown",
   "id": "910e75bb-7b3d-427d-8372-02503866e9d0",
   "metadata": {},
   "source": [
    "Ans.In object-oriented programming (OOP), self is a special parameter that is used to refer to the current instance of a class. \n",
    "It is used to access the attributes and methods of an object within the class, as well as to create new attributes and methods for that object.\n",
    "\n",
    "In Python, when a method is called on an instance of a class, the instance is automatically passed to the method as the first argument. \n",
    "This is why all instance methods in Python take self as their first parameter.\n",
    "\n",
    "In summary, self is used in OOP to refer to the current instance of a class and access its attributes and methods. \n",
    "It allows for multiple instances of a class to have their own values for the same attributes and methods, and enables the creation of more flexible and powerful object-oriented programs. '''\n"
   ]
  },
  {
   "cell_type": "code",
   "execution_count": null,
   "id": "18cfa686-ad55-4c5b-9407-656129bbcb34",
   "metadata": {},
   "outputs": [],
   "source": []
  },
  {
   "cell_type": "code",
   "execution_count": null,
   "id": "870a4202-4e46-4c3d-933b-a8cfc50b238b",
   "metadata": {},
   "outputs": [],
   "source": [
    "QUESTION.5"
   ]
  }
 ],
 "metadata": {
  "kernelspec": {
   "display_name": "Python 3 (ipykernel)",
   "language": "python",
   "name": "python3"
  },
  "language_info": {
   "codemirror_mode": {
    "name": "ipython",
    "version": 3
   },
   "file_extension": ".py",
   "mimetype": "text/x-python",
   "name": "python",
   "nbconvert_exporter": "python",
   "pygments_lexer": "ipython3",
   "version": "3.10.8"
  }
 },
 "nbformat": 4,
 "nbformat_minor": 5
}
